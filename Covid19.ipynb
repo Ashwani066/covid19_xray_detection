{
  "nbformat": 4,
  "nbformat_minor": 0,
  "metadata": {
    "colab": {
      "name": "Covid19.ipynb",
      "provenance": [],
      "collapsed_sections": []
    },
    "kernelspec": {
      "name": "python3",
      "display_name": "Python 3"
    },
    "accelerator": "GPU"
  },
  "cells": [
    {
      "cell_type": "markdown",
      "metadata": {
        "id": "8DiideLwKway",
        "colab_type": "text"
      },
      "source": [
        "*Disclaimer: Please don't think this code can be used accurately for medical purposes.... As we only have 115 covid infected PA X-ray Images*\n",
        "\n",
        "\n",
        "---\n",
        "\n"
      ]
    },
    {
      "cell_type": "code",
      "metadata": {
        "id": "fOHH2pLO-Kdk",
        "colab_type": "code",
        "outputId": "98bb2df8-74b9-4fae-9ad2-4ae528d0cb92",
        "colab": {
          "base_uri": "https://localhost:8080/",
          "height": 84
        }
      },
      "source": [
        "from tensorflow.keras.models import Sequential,Model\n",
        "from tensorflow.keras.layers import Conv2D\n",
        "from tensorflow.keras.layers import SeparableConv2D\n",
        "from tensorflow.keras.layers import Input \n",
        "from tensorflow.keras import callbacks\n",
        "from tensorflow.keras.layers import BatchNormalization\n",
        "from tensorflow.keras.layers import Dropout\n",
        "from tensorflow.keras.preprocessing.image import ImageDataGenerator\n",
        "from tensorflow.keras.layers import Flatten\n",
        "from tensorflow.keras.layers import MaxPooling2D\n",
        "from tensorflow.keras.layers import Dense\n",
        "from tensorflow.keras.regularizers import l2\n",
        "from tensorflow.keras.optimizers import Adam\n",
        "import h5py\n",
        "import tensorflow \n",
        "from tensorflow.keras.utils import to_categorical\n",
        "from sklearn.preprocessing import LabelBinarizer\n",
        "from sklearn.model_selection import train_test_split\n",
        "from sklearn.metrics import classification_report\n",
        "from sklearn.metrics import confusion_matrix\n",
        "#config = tensorflow.ConfigProto(allow_soft_placement=True)\n",
        "#config.gpu_options.per_process_gpu_memory_fraction = 0.9\n",
        "#sess=tensorflow.Session(config=config)\n",
        "import matplotlib.pyplot as plt\n",
        "import numpy as np\n",
        "%tensorflow_version\n",
        "\n"
      ],
      "execution_count": 20,
      "outputs": [
        {
          "output_type": "stream",
          "text": [
            "Currently selected TF version: 2.x\n",
            "Available versions:\n",
            "* 1.x\n",
            "* 2.x\n"
          ],
          "name": "stdout"
        }
      ]
    },
    {
      "cell_type": "markdown",
      "metadata": {
        "id": "IyECAQAeLdDi",
        "colab_type": "text"
      },
      "source": [
        "As you can see you require tf 2.X.x for this code to run...\n",
        "How ever i was able to run in in my tf 1.X so ,, you can try\n",
        "Although my GTX 1050ti and i5 8300h with 8gb 2666mhz wasn't able to  run my code. That's why I used Google Colab."
      ]
    },
    {
      "cell_type": "code",
      "metadata": {
        "id": "DTkXb7g9ngGx",
        "colab_type": "code",
        "outputId": "1d05dd78-78d4-4103-fbf4-5fc7c612288f",
        "colab": {
          "base_uri": "https://localhost:8080/",
          "height": 50
        }
      },
      "source": [
        "#DATA PREPROCESSING\n",
        "INIT_LR = 1e-4\n",
        "EPOCHS = 75\n",
        "BS = 10\n",
        "train_datagen = ImageDataGenerator(\n",
        "        rescale=1./255,\n",
        "        shear_range=0.2,\n",
        "        zoom_range=0.2,\n",
        "        horizontal_flip=True,\n",
        "        rotation_range=15,\n",
        "        fill_mode=\"nearest\")\n",
        "\n",
        "test_datagen = ImageDataGenerator(rescale=1./255)\n",
        "\n",
        "training_set = train_datagen.flow_from_directory(\n",
        "        'drive/My Drive/dataset/train',\n",
        "        target_size=(224, 224),\n",
        "        batch_size=BS,\n",
        "        class_mode='categorical')\n",
        "\n",
        "test_set = test_datagen.flow_from_directory(\n",
        "        'drive/My Drive/dataset/test',\n",
        "        target_size=(224, 224),\n",
        "        batch_size=BS,\n",
        "        class_mode='categorical')"
      ],
      "execution_count": 3,
      "outputs": [
        {
          "output_type": "stream",
          "text": [
            "Found 186 images belonging to 2 classes.\n",
            "Found 92 images belonging to 2 classes.\n"
          ],
          "name": "stdout"
        }
      ]
    },
    {
      "cell_type": "markdown",
      "metadata": {
        "id": "TiOSSjzHJdEf",
        "colab_type": "text"
      },
      "source": [
        "As you can See we have 186 images (90 covid and 96 normal) in our Training_set and other are in test set.\n",
        "\n",
        "**Now we create our model**\n",
        "\n",
        "\n"
      ]
    },
    {
      "cell_type": "code",
      "metadata": {
        "id": "e8XNXGtDmBFz",
        "colab_type": "code",
        "colab": {
          "base_uri": "https://localhost:8080/",
          "height": 790
        },
        "outputId": "0883722f-c8a2-420c-932c-ca6ab9db28c9"
      },
      "source": [
        "#MODEL PREPARATION \n",
        "def build_model():\n",
        "    input_img = Input(shape=(224,224,3), name='ImageInput')\n",
        "    x = Conv2D(64, (3,3), activation='relu', padding='same', name='Conv1_1')(input_img)\n",
        "    x = Conv2D(64, (3,3), activation='relu', padding='same', name='Conv1_2')(x)\n",
        "    x = MaxPooling2D((2,2), name='pool1')(x)\n",
        "    \n",
        "    x = SeparableConv2D(128, (3,3), activation='relu', padding='same', name='Conv2_1')(x)\n",
        "    x = SeparableConv2D(128, (3,3), activation='relu', padding='same', name='Conv2_2')(x)\n",
        "    x = MaxPooling2D((2,2), name='pool2')(x)\n",
        "    \n",
        "    x = SeparableConv2D(256, (3,3), activation='relu', padding='same', name='Conv3_1')(x)\n",
        "    x = BatchNormalization(name='bn1')(x)\n",
        "    x = SeparableConv2D(256, (3,3), activation='relu', padding='same', name='Conv3_2')(x)\n",
        "    x = BatchNormalization(name='bn2')(x)\n",
        "    x = SeparableConv2D(256, (3,3), activation='relu', padding='same', name='Conv3_3')(x)\n",
        "    x = MaxPooling2D((2,2), name='pool3')(x)\n",
        "    \n",
        "   # x = SeparableConv2D(512, (3,3), activation='relu', padding='same', name='Conv4_1')(x)\n",
        "   # x = BatchNormalization(name='bn3')(x)\n",
        "   # x = SeparableConv2D(512, (3,3), activation='relu', padding='same', name='Conv4_2')(x)\n",
        "   # x = BatchNormalization(name='bn4')(x)\n",
        "   # x = SeparableConv2D(512, (3,3), activation='relu', padding='same', name='Conv4_3')(x)\n",
        "    # x = MaxPooling2D((2,2), name='pool4')(x)\n",
        "    \n",
        "    x = Flatten(name='flatten')(x)\n",
        "    x = Dense(512, activation='relu', name='fc1')(x)\n",
        "    x = Dropout(0.5, name='dropout1')(x)\n",
        "    x = Dense(128, activation='relu', name='fc2')(x)\n",
        "    x = Dropout(0.5, name='dropout2')(x)\n",
        "    x = Dense(2, activation='softmax', name='fc3')(x)\n",
        "    \n",
        "    model = Model(inputs=input_img, outputs=x)\n",
        "    return model\n",
        "model =  build_model()\n",
        "model.summary()"
      ],
      "execution_count": 4,
      "outputs": [
        {
          "output_type": "stream",
          "text": [
            "Model: \"model\"\n",
            "_________________________________________________________________\n",
            "Layer (type)                 Output Shape              Param #   \n",
            "=================================================================\n",
            "ImageInput (InputLayer)      [(None, 224, 224, 3)]     0         \n",
            "_________________________________________________________________\n",
            "Conv1_1 (Conv2D)             (None, 224, 224, 64)      1792      \n",
            "_________________________________________________________________\n",
            "Conv1_2 (Conv2D)             (None, 224, 224, 64)      36928     \n",
            "_________________________________________________________________\n",
            "pool1 (MaxPooling2D)         (None, 112, 112, 64)      0         \n",
            "_________________________________________________________________\n",
            "Conv2_1 (SeparableConv2D)    (None, 112, 112, 128)     8896      \n",
            "_________________________________________________________________\n",
            "Conv2_2 (SeparableConv2D)    (None, 112, 112, 128)     17664     \n",
            "_________________________________________________________________\n",
            "pool2 (MaxPooling2D)         (None, 56, 56, 128)       0         \n",
            "_________________________________________________________________\n",
            "Conv3_1 (SeparableConv2D)    (None, 56, 56, 256)       34176     \n",
            "_________________________________________________________________\n",
            "bn1 (BatchNormalization)     (None, 56, 56, 256)       1024      \n",
            "_________________________________________________________________\n",
            "Conv3_2 (SeparableConv2D)    (None, 56, 56, 256)       68096     \n",
            "_________________________________________________________________\n",
            "bn2 (BatchNormalization)     (None, 56, 56, 256)       1024      \n",
            "_________________________________________________________________\n",
            "Conv3_3 (SeparableConv2D)    (None, 56, 56, 256)       68096     \n",
            "_________________________________________________________________\n",
            "pool3 (MaxPooling2D)         (None, 28, 28, 256)       0         \n",
            "_________________________________________________________________\n",
            "flatten (Flatten)            (None, 200704)            0         \n",
            "_________________________________________________________________\n",
            "fc1 (Dense)                  (None, 512)               102760960 \n",
            "_________________________________________________________________\n",
            "dropout1 (Dropout)           (None, 512)               0         \n",
            "_________________________________________________________________\n",
            "fc2 (Dense)                  (None, 128)               65664     \n",
            "_________________________________________________________________\n",
            "dropout2 (Dropout)           (None, 128)               0         \n",
            "_________________________________________________________________\n",
            "fc3 (Dense)                  (None, 2)                 258       \n",
            "=================================================================\n",
            "Total params: 103,064,578\n",
            "Trainable params: 103,063,554\n",
            "Non-trainable params: 1,024\n",
            "_________________________________________________________________\n"
          ],
          "name": "stdout"
        }
      ]
    },
    {
      "cell_type": "markdown",
      "metadata": {
        "id": "_LEwXXqDJ4wZ",
        "colab_type": "text"
      },
      "source": [
        " ABove : We used Seperable Conv2d because it creates overall less parameters.\n",
        "\n",
        "\n",
        "---\n",
        "Now we Initialize our weights (Of onlyconvolutional layer from vgg16 imagnet to get features from a immensely large dataset)\n",
        "\n"
      ]
    },
    {
      "cell_type": "code",
      "metadata": {
        "id": "3q2_jMoamTpK",
        "colab_type": "code",
        "colab": {
          "base_uri": "https://localhost:8080/",
          "height": 790
        },
        "outputId": "f9343edd-071e-49af-8884-649957f63a77"
      },
      "source": [
        "#initialision cov2 weights from vgg16 imagenet \n",
        "f = h5py.File('drive/My Drive/vgg16_weights_tf_dim_ordering_tf_kernels_notop.h5', 'r')\n",
        "\n",
        "# Select the layers for which you want to set weight.\n",
        "\n",
        "w,b = f['block1_conv1']['block1_conv1_W_1:0'], f['block1_conv1']['block1_conv1_b_1:0']\n",
        "model.layers[1].set_weights = [w,b]\n",
        "\n",
        "w,b = f['block1_conv2']['block1_conv2_W_1:0'], f['block1_conv2']['block1_conv2_b_1:0']\n",
        "model.layers[2].set_weights = [w,b]\n",
        "\n",
        "w,b = f['block2_conv1']['block2_conv1_W_1:0'], f['block2_conv1']['block2_conv1_b_1:0']\n",
        "model.layers[4].set_weights = [w,b]\n",
        "\n",
        "w,b = f['block2_conv2']['block2_conv2_W_1:0'], f['block2_conv2']['block2_conv2_b_1:0']\n",
        "model.layers[5].set_weights = [w,b]\n",
        "\n",
        "f.close()\n",
        "model.summary()    "
      ],
      "execution_count": 5,
      "outputs": [
        {
          "output_type": "stream",
          "text": [
            "Model: \"model\"\n",
            "_________________________________________________________________\n",
            "Layer (type)                 Output Shape              Param #   \n",
            "=================================================================\n",
            "ImageInput (InputLayer)      [(None, 224, 224, 3)]     0         \n",
            "_________________________________________________________________\n",
            "Conv1_1 (Conv2D)             (None, 224, 224, 64)      1792      \n",
            "_________________________________________________________________\n",
            "Conv1_2 (Conv2D)             (None, 224, 224, 64)      36928     \n",
            "_________________________________________________________________\n",
            "pool1 (MaxPooling2D)         (None, 112, 112, 64)      0         \n",
            "_________________________________________________________________\n",
            "Conv2_1 (SeparableConv2D)    (None, 112, 112, 128)     8896      \n",
            "_________________________________________________________________\n",
            "Conv2_2 (SeparableConv2D)    (None, 112, 112, 128)     17664     \n",
            "_________________________________________________________________\n",
            "pool2 (MaxPooling2D)         (None, 56, 56, 128)       0         \n",
            "_________________________________________________________________\n",
            "Conv3_1 (SeparableConv2D)    (None, 56, 56, 256)       34176     \n",
            "_________________________________________________________________\n",
            "bn1 (BatchNormalization)     (None, 56, 56, 256)       1024      \n",
            "_________________________________________________________________\n",
            "Conv3_2 (SeparableConv2D)    (None, 56, 56, 256)       68096     \n",
            "_________________________________________________________________\n",
            "bn2 (BatchNormalization)     (None, 56, 56, 256)       1024      \n",
            "_________________________________________________________________\n",
            "Conv3_3 (SeparableConv2D)    (None, 56, 56, 256)       68096     \n",
            "_________________________________________________________________\n",
            "pool3 (MaxPooling2D)         (None, 28, 28, 256)       0         \n",
            "_________________________________________________________________\n",
            "flatten (Flatten)            (None, 200704)            0         \n",
            "_________________________________________________________________\n",
            "fc1 (Dense)                  (None, 512)               102760960 \n",
            "_________________________________________________________________\n",
            "dropout1 (Dropout)           (None, 512)               0         \n",
            "_________________________________________________________________\n",
            "fc2 (Dense)                  (None, 128)               65664     \n",
            "_________________________________________________________________\n",
            "dropout2 (Dropout)           (None, 128)               0         \n",
            "_________________________________________________________________\n",
            "fc3 (Dense)                  (None, 2)                 258       \n",
            "=================================================================\n",
            "Total params: 103,064,578\n",
            "Trainable params: 103,063,554\n",
            "Non-trainable params: 1,024\n",
            "_________________________________________________________________\n"
          ],
          "name": "stdout"
        }
      ]
    },
    {
      "cell_type": "code",
      "metadata": {
        "id": "9PapByzwmveR",
        "colab_type": "code",
        "colab": {
          "base_uri": "https://localhost:8080/",
          "height": 1000
        },
        "outputId": "ad2355d3-dcba-472d-d6d1-1489ab878691"
      },
      "source": [
        "#Training phase\n",
        "opt = Adam(lr=0.0001, decay=1e-5)\n",
        "es = callbacks.EarlyStopping(patience=18)\n",
        "chkpt = callbacks.ModelCheckpoint(filepath='best_model_todate', save_best_only=True, save_weights_only=False)\n",
        "model.compile(loss='binary_crossentropy', metrics=['accuracy'],optimizer=opt)\n",
        "history =model.fit_generator(training_set,steps_per_epoch=186//BS,epochs=EPOCHS,validation_data=test_set,validation_steps=94//BS,callbacks=[es,chkpt])\n",
        "\n"
      ],
      "execution_count": 6,
      "outputs": [
        {
          "output_type": "stream",
          "text": [
            "WARNING:tensorflow:From <ipython-input-6-581b8d9ab7f1>:5: Model.fit_generator (from tensorflow.python.keras.engine.training) is deprecated and will be removed in a future version.\n",
            "Instructions for updating:\n",
            "Please use Model.fit, which supports generators.\n",
            "Epoch 1/75\n",
            "18/18 [==============================] - ETA: 0s - loss: 0.6856 - accuracy: 0.6056WARNING:tensorflow:From /usr/local/lib/python3.6/dist-packages/tensorflow/python/ops/resource_variable_ops.py:1817: calling BaseResourceVariable.__init__ (from tensorflow.python.ops.resource_variable_ops) with constraint is deprecated and will be removed in a future version.\n",
            "Instructions for updating:\n",
            "If using Keras pass *_constraint arguments to layers.\n",
            "INFO:tensorflow:Assets written to: best_model_todate/assets\n",
            "18/18 [==============================] - 16s 894ms/step - loss: 0.6856 - accuracy: 0.6056 - val_loss: 0.6977 - val_accuracy: 0.2667\n",
            "Epoch 2/75\n",
            "18/18 [==============================] - 8s 467ms/step - loss: 0.5690 - accuracy: 0.7670 - val_loss: 0.7308 - val_accuracy: 0.2667\n",
            "Epoch 3/75\n",
            "18/18 [==============================] - 9s 474ms/step - loss: 0.3279 - accuracy: 0.8807 - val_loss: 0.9215 - val_accuracy: 0.2667\n",
            "Epoch 4/75\n",
            "18/18 [==============================] - 8s 455ms/step - loss: 0.2853 - accuracy: 0.8920 - val_loss: 0.8972 - val_accuracy: 0.2667\n",
            "Epoch 5/75\n",
            "18/18 [==============================] - 9s 477ms/step - loss: 0.2691 - accuracy: 0.8977 - val_loss: 0.9937 - val_accuracy: 0.2556\n",
            "Epoch 6/75\n",
            "18/18 [==============================] - 8s 446ms/step - loss: 0.2117 - accuracy: 0.9148 - val_loss: 1.0459 - val_accuracy: 0.2667\n",
            "Epoch 7/75\n",
            "18/18 [==============================] - 8s 456ms/step - loss: 0.2723 - accuracy: 0.8864 - val_loss: 0.9412 - val_accuracy: 0.2556\n",
            "Epoch 8/75\n",
            "18/18 [==============================] - 9s 473ms/step - loss: 0.2018 - accuracy: 0.9261 - val_loss: 0.8817 - val_accuracy: 0.2667\n",
            "Epoch 9/75\n",
            "18/18 [==============================] - 8s 423ms/step - loss: 0.2002 - accuracy: 0.9261 - val_loss: 0.8760 - val_accuracy: 0.2556\n",
            "Epoch 10/75\n",
            "18/18 [==============================] - 9s 477ms/step - loss: 0.2085 - accuracy: 0.9261 - val_loss: 0.9587 - val_accuracy: 0.2667\n",
            "Epoch 11/75\n",
            "18/18 [==============================] - 8s 468ms/step - loss: 0.1917 - accuracy: 0.9432 - val_loss: 0.8001 - val_accuracy: 0.2556\n",
            "Epoch 12/75\n",
            "18/18 [==============================] - 8s 458ms/step - loss: 0.1768 - accuracy: 0.9261 - val_loss: 0.8457 - val_accuracy: 0.2667\n",
            "Epoch 13/75\n",
            "18/18 [==============================] - 8s 466ms/step - loss: 0.1960 - accuracy: 0.9034 - val_loss: 0.7986 - val_accuracy: 0.2667\n",
            "Epoch 14/75\n",
            "18/18 [==============================] - 8s 426ms/step - loss: 0.1464 - accuracy: 0.9489 - val_loss: 0.8634 - val_accuracy: 0.2667\n",
            "Epoch 15/75\n",
            "18/18 [==============================] - 8s 464ms/step - loss: 0.1600 - accuracy: 0.9545 - val_loss: 0.7994 - val_accuracy: 0.2667\n",
            "Epoch 16/75\n",
            "18/18 [==============================] - 8s 457ms/step - loss: 0.2215 - accuracy: 0.9205 - val_loss: 0.7557 - val_accuracy: 0.2667\n",
            "Epoch 17/75\n",
            "18/18 [==============================] - 8s 460ms/step - loss: 0.2449 - accuracy: 0.9091 - val_loss: 0.7606 - val_accuracy: 0.2556\n",
            "Epoch 18/75\n",
            "18/18 [==============================] - ETA: 0s - loss: 0.1996 - accuracy: 0.9489INFO:tensorflow:Assets written to: best_model_todate/assets\n",
            "18/18 [==============================] - 15s 852ms/step - loss: 0.1996 - accuracy: 0.9489 - val_loss: 0.6405 - val_accuracy: 0.9778\n",
            "Epoch 19/75\n",
            "18/18 [==============================] - 9s 507ms/step - loss: 0.2230 - accuracy: 0.9205 - val_loss: 0.6950 - val_accuracy: 0.2667\n",
            "Epoch 20/75\n",
            "18/18 [==============================] - ETA: 0s - loss: 0.1717 - accuracy: 0.9500INFO:tensorflow:Assets written to: best_model_todate/assets\n",
            "18/18 [==============================] - 16s 903ms/step - loss: 0.1717 - accuracy: 0.9500 - val_loss: 0.5993 - val_accuracy: 0.9778\n",
            "Epoch 21/75\n",
            "18/18 [==============================] - 9s 494ms/step - loss: 0.1534 - accuracy: 0.9318 - val_loss: 0.6100 - val_accuracy: 0.9889\n",
            "Epoch 22/75\n",
            "18/18 [==============================] - ETA: 0s - loss: 0.1574 - accuracy: 0.9432INFO:tensorflow:Assets written to: best_model_todate/assets\n",
            "18/18 [==============================] - 23s 1s/step - loss: 0.1574 - accuracy: 0.9432 - val_loss: 0.5748 - val_accuracy: 0.9889\n",
            "Epoch 23/75\n",
            "18/18 [==============================] - 9s 477ms/step - loss: 0.2098 - accuracy: 0.9375 - val_loss: 0.5997 - val_accuracy: 0.9889\n",
            "Epoch 24/75\n",
            "18/18 [==============================] - ETA: 0s - loss: 0.1094 - accuracy: 0.9830INFO:tensorflow:Assets written to: best_model_todate/assets\n",
            "18/18 [==============================] - 22s 1s/step - loss: 0.1094 - accuracy: 0.9830 - val_loss: 0.5192 - val_accuracy: 0.9889\n",
            "Epoch 25/75\n",
            "18/18 [==============================] - ETA: 0s - loss: 0.1303 - accuracy: 0.9375INFO:tensorflow:Assets written to: best_model_todate/assets\n",
            "18/18 [==============================] - 29s 2s/step - loss: 0.1303 - accuracy: 0.9375 - val_loss: 0.4374 - val_accuracy: 0.9889\n",
            "Epoch 26/75\n",
            "18/18 [==============================] - 9s 511ms/step - loss: 0.2396 - accuracy: 0.9205 - val_loss: 0.5332 - val_accuracy: 0.9778\n",
            "Epoch 27/75\n",
            "18/18 [==============================] - 9s 475ms/step - loss: 0.1692 - accuracy: 0.9545 - val_loss: 0.5228 - val_accuracy: 0.9778\n",
            "Epoch 28/75\n",
            "18/18 [==============================] - 8s 452ms/step - loss: 0.2224 - accuracy: 0.9261 - val_loss: 0.4972 - val_accuracy: 0.9778\n",
            "Epoch 29/75\n",
            "18/18 [==============================] - ETA: 0s - loss: 0.1041 - accuracy: 0.9716INFO:tensorflow:Assets written to: best_model_todate/assets\n",
            "18/18 [==============================] - 16s 882ms/step - loss: 0.1041 - accuracy: 0.9716 - val_loss: 0.4168 - val_accuracy: 0.9778\n",
            "Epoch 30/75\n",
            "18/18 [==============================] - ETA: 0s - loss: 0.1574 - accuracy: 0.9432INFO:tensorflow:Assets written to: best_model_todate/assets\n",
            "18/18 [==============================] - 28s 2s/step - loss: 0.1574 - accuracy: 0.9432 - val_loss: 0.3452 - val_accuracy: 0.9778\n",
            "Epoch 31/75\n",
            "18/18 [==============================] - ETA: 0s - loss: 0.1436 - accuracy: 0.9602INFO:tensorflow:Assets written to: best_model_todate/assets\n",
            "18/18 [==============================] - 31s 2s/step - loss: 0.1436 - accuracy: 0.9602 - val_loss: 0.2486 - val_accuracy: 0.9778\n",
            "Epoch 32/75\n",
            "18/18 [==============================] - 9s 479ms/step - loss: 0.1063 - accuracy: 0.9545 - val_loss: 0.2828 - val_accuracy: 0.9778\n",
            "Epoch 33/75\n",
            "18/18 [==============================] - ETA: 0s - loss: 0.1585 - accuracy: 0.9375INFO:tensorflow:Assets written to: best_model_todate/assets\n",
            "18/18 [==============================] - 23s 1s/step - loss: 0.1585 - accuracy: 0.9375 - val_loss: 0.2377 - val_accuracy: 0.9778\n",
            "Epoch 34/75\n",
            "18/18 [==============================] - ETA: 0s - loss: 0.1907 - accuracy: 0.9148INFO:tensorflow:Assets written to: best_model_todate/assets\n",
            "18/18 [==============================] - 31s 2s/step - loss: 0.1907 - accuracy: 0.9148 - val_loss: 0.2225 - val_accuracy: 0.9778\n",
            "Epoch 35/75\n",
            "18/18 [==============================] - ETA: 0s - loss: 0.1665 - accuracy: 0.9318INFO:tensorflow:Assets written to: best_model_todate/assets\n",
            "18/18 [==============================] - 27s 1s/step - loss: 0.1665 - accuracy: 0.9318 - val_loss: 0.1871 - val_accuracy: 0.9778\n",
            "Epoch 36/75\n",
            "18/18 [==============================] - ETA: 0s - loss: 0.1017 - accuracy: 0.9716INFO:tensorflow:Assets written to: best_model_todate/assets\n",
            "18/18 [==============================] - 32s 2s/step - loss: 0.1017 - accuracy: 0.9716 - val_loss: 0.1248 - val_accuracy: 0.9778\n",
            "Epoch 37/75\n",
            "18/18 [==============================] - ETA: 0s - loss: 0.1149 - accuracy: 0.9659INFO:tensorflow:Assets written to: best_model_todate/assets\n",
            "18/18 [==============================] - 31s 2s/step - loss: 0.1149 - accuracy: 0.9659 - val_loss: 0.0911 - val_accuracy: 0.9778\n",
            "Epoch 38/75\n",
            "18/18 [==============================] - 8s 453ms/step - loss: 0.1310 - accuracy: 0.9545 - val_loss: 0.0915 - val_accuracy: 0.9778\n",
            "Epoch 39/75\n",
            "18/18 [==============================] - 9s 483ms/step - loss: 0.1543 - accuracy: 0.9389 - val_loss: 0.1086 - val_accuracy: 0.9667\n",
            "Epoch 40/75\n",
            "18/18 [==============================] - ETA: 0s - loss: 0.1139 - accuracy: 0.9602INFO:tensorflow:Assets written to: best_model_todate/assets\n",
            "18/18 [==============================] - 16s 878ms/step - loss: 0.1139 - accuracy: 0.9602 - val_loss: 0.0646 - val_accuracy: 0.9889\n",
            "Epoch 41/75\n",
            "18/18 [==============================] - 9s 483ms/step - loss: 0.1623 - accuracy: 0.9375 - val_loss: 0.0854 - val_accuracy: 0.9667\n",
            "Epoch 42/75\n",
            "18/18 [==============================] - ETA: 0s - loss: 0.1152 - accuracy: 0.9545INFO:tensorflow:Assets written to: best_model_todate/assets\n",
            "18/18 [==============================] - 23s 1s/step - loss: 0.1152 - accuracy: 0.9545 - val_loss: 0.0567 - val_accuracy: 0.9889\n",
            "Epoch 43/75\n",
            "18/18 [==============================] - ETA: 0s - loss: 0.0699 - accuracy: 0.9716INFO:tensorflow:Assets written to: best_model_todate/assets\n",
            "18/18 [==============================] - 28s 2s/step - loss: 0.0699 - accuracy: 0.9716 - val_loss: 0.0499 - val_accuracy: 0.9778\n",
            "Epoch 44/75\n",
            "18/18 [==============================] - ETA: 0s - loss: 0.1318 - accuracy: 0.9716INFO:tensorflow:Assets written to: best_model_todate/assets\n",
            "18/18 [==============================] - 33s 2s/step - loss: 0.1318 - accuracy: 0.9716 - val_loss: 0.0484 - val_accuracy: 0.9778\n",
            "Epoch 45/75\n",
            "18/18 [==============================] - ETA: 0s - loss: 0.0882 - accuracy: 0.9659INFO:tensorflow:Assets written to: best_model_todate/assets\n",
            "18/18 [==============================] - 31s 2s/step - loss: 0.0882 - accuracy: 0.9659 - val_loss: 0.0445 - val_accuracy: 0.9778\n",
            "Epoch 46/75\n",
            "18/18 [==============================] - 9s 477ms/step - loss: 0.0941 - accuracy: 0.9830 - val_loss: 0.0806 - val_accuracy: 0.9667\n",
            "Epoch 47/75\n",
            "18/18 [==============================] - 8s 457ms/step - loss: 0.1150 - accuracy: 0.9659 - val_loss: 0.0663 - val_accuracy: 0.9667\n",
            "Epoch 48/75\n",
            "18/18 [==============================] - ETA: 0s - loss: 0.1509 - accuracy: 0.9318INFO:tensorflow:Assets written to: best_model_todate/assets\n",
            "18/18 [==============================] - 15s 859ms/step - loss: 0.1509 - accuracy: 0.9318 - val_loss: 0.0404 - val_accuracy: 0.9889\n",
            "Epoch 49/75\n",
            "18/18 [==============================] - ETA: 0s - loss: 0.1313 - accuracy: 0.9659INFO:tensorflow:Assets written to: best_model_todate/assets\n",
            "18/18 [==============================] - 27s 2s/step - loss: 0.1313 - accuracy: 0.9659 - val_loss: 0.0366 - val_accuracy: 0.9889\n",
            "Epoch 50/75\n",
            "18/18 [==============================] - 8s 472ms/step - loss: 0.0895 - accuracy: 0.9716 - val_loss: 0.0413 - val_accuracy: 0.9778\n",
            "Epoch 51/75\n",
            "18/18 [==============================] - 8s 470ms/step - loss: 0.0879 - accuracy: 0.9602 - val_loss: 0.0419 - val_accuracy: 0.9778\n",
            "Epoch 52/75\n",
            "18/18 [==============================] - 9s 478ms/step - loss: 0.0857 - accuracy: 0.9659 - val_loss: 0.0809 - val_accuracy: 0.9667\n",
            "Epoch 53/75\n",
            "18/18 [==============================] - 8s 466ms/step - loss: 0.1057 - accuracy: 0.9886 - val_loss: 0.0516 - val_accuracy: 0.9778\n",
            "Epoch 54/75\n",
            "18/18 [==============================] - 8s 448ms/step - loss: 0.1014 - accuracy: 0.9489 - val_loss: 0.0433 - val_accuracy: 0.9778\n",
            "Epoch 55/75\n",
            "18/18 [==============================] - 9s 484ms/step - loss: 0.1497 - accuracy: 0.9489 - val_loss: 0.0594 - val_accuracy: 0.9667\n",
            "Epoch 56/75\n",
            "18/18 [==============================] - 8s 458ms/step - loss: 0.0954 - accuracy: 0.9773 - val_loss: 0.0477 - val_accuracy: 0.9667\n",
            "Epoch 57/75\n",
            "18/18 [==============================] - 8s 469ms/step - loss: 0.0845 - accuracy: 0.9716 - val_loss: 0.1241 - val_accuracy: 0.9556\n",
            "Epoch 58/75\n",
            "18/18 [==============================] - 9s 484ms/step - loss: 0.0888 - accuracy: 0.9833 - val_loss: 0.0488 - val_accuracy: 0.9778\n",
            "Epoch 59/75\n",
            "18/18 [==============================] - 9s 484ms/step - loss: 0.1134 - accuracy: 0.9659 - val_loss: 0.0486 - val_accuracy: 0.9778\n",
            "Epoch 60/75\n",
            "18/18 [==============================] - 8s 468ms/step - loss: 0.0910 - accuracy: 0.9886 - val_loss: 0.0945 - val_accuracy: 0.9667\n",
            "Epoch 61/75\n",
            "18/18 [==============================] - 8s 464ms/step - loss: 0.1195 - accuracy: 0.9659 - val_loss: 0.0576 - val_accuracy: 0.9667\n",
            "Epoch 62/75\n",
            "18/18 [==============================] - ETA: 0s - loss: 0.0727 - accuracy: 0.9830INFO:tensorflow:Assets written to: best_model_todate/assets\n",
            "18/18 [==============================] - 16s 877ms/step - loss: 0.0727 - accuracy: 0.9830 - val_loss: 0.0325 - val_accuracy: 0.9889\n",
            "Epoch 63/75\n",
            "18/18 [==============================] - 8s 456ms/step - loss: 0.1239 - accuracy: 0.9659 - val_loss: 0.1545 - val_accuracy: 0.9333\n",
            "Epoch 64/75\n",
            "18/18 [==============================] - 9s 473ms/step - loss: 0.0991 - accuracy: 0.9602 - val_loss: 0.0384 - val_accuracy: 0.9778\n",
            "Epoch 65/75\n",
            "18/18 [==============================] - 8s 467ms/step - loss: 0.1444 - accuracy: 0.9375 - val_loss: 0.0492 - val_accuracy: 0.9778\n",
            "Epoch 66/75\n",
            "18/18 [==============================] - 9s 475ms/step - loss: 0.0887 - accuracy: 0.9659 - val_loss: 0.0964 - val_accuracy: 0.9556\n",
            "Epoch 67/75\n",
            "18/18 [==============================] - 8s 469ms/step - loss: 0.0626 - accuracy: 0.9716 - val_loss: 0.0406 - val_accuracy: 0.9889\n",
            "Epoch 68/75\n",
            "18/18 [==============================] - 8s 432ms/step - loss: 0.0901 - accuracy: 0.9773 - val_loss: 0.0678 - val_accuracy: 0.9778\n",
            "Epoch 69/75\n",
            "18/18 [==============================] - 8s 466ms/step - loss: 0.0867 - accuracy: 0.9545 - val_loss: 0.0866 - val_accuracy: 0.9667\n",
            "Epoch 70/75\n",
            "18/18 [==============================] - 8s 469ms/step - loss: 0.0719 - accuracy: 0.9773 - val_loss: 0.0449 - val_accuracy: 0.9889\n",
            "Epoch 71/75\n",
            "18/18 [==============================] - 8s 465ms/step - loss: 0.0885 - accuracy: 0.9716 - val_loss: 0.0359 - val_accuracy: 0.9889\n",
            "Epoch 72/75\n",
            "18/18 [==============================] - 8s 470ms/step - loss: 0.0545 - accuracy: 0.9830 - val_loss: 0.0599 - val_accuracy: 0.9667\n",
            "Epoch 73/75\n",
            "18/18 [==============================] - ETA: 0s - loss: 0.0591 - accuracy: 0.9830INFO:tensorflow:Assets written to: best_model_todate/assets\n",
            "18/18 [==============================] - 15s 860ms/step - loss: 0.0591 - accuracy: 0.9830 - val_loss: 0.0251 - val_accuracy: 0.9889\n",
            "Epoch 74/75\n",
            "18/18 [==============================] - 8s 451ms/step - loss: 0.1105 - accuracy: 0.9659 - val_loss: 0.3353 - val_accuracy: 0.9111\n",
            "Epoch 75/75\n",
            "18/18 [==============================] - 9s 478ms/step - loss: 0.1073 - accuracy: 0.9602 - val_loss: 0.0345 - val_accuracy: 0.9889\n"
          ],
          "name": "stdout"
        }
      ]
    },
    {
      "cell_type": "markdown",
      "metadata": {
        "id": "5RSxmdwvMQ_J",
        "colab_type": "text"
      },
      "source": [
        "As you can see i used patience=18 which defeated the purpose of early stopping .. so please select accordingly"
      ]
    },
    {
      "cell_type": "code",
      "metadata": {
        "id": "qTfb_ZpqrKKy",
        "colab_type": "code",
        "colab": {}
      },
      "source": [
        "#model.save(\"wtfhappened.h5\") actually callback already saved the best available accuracy model. :D\n"
      ],
      "execution_count": 0,
      "outputs": []
    },
    {
      "cell_type": "markdown",
      "metadata": {
        "id": "U718l69YKcXZ",
        "colab_type": "text"
      },
      "source": [
        "Now we shall try our model on some of the images"
      ]
    },
    {
      "cell_type": "code",
      "metadata": {
        "id": "Axh1SPr7rYb5",
        "colab_type": "code",
        "colab": {
          "base_uri": "https://localhost:8080/",
          "height": 50
        },
        "outputId": "0bc80230-bab8-4ea9-95e5-56c114e64445"
      },
      "source": [
        "from tensorflow.keras.preprocessing import image\n",
        "testimg=image.load_img(\"/content/1-s2.0-S1684118220300608-main.pdf-001.jpg\",target_size=(224, 224))\n",
        "testimg=image.img_to_array(testimg)\n",
        "testimg=np.expand_dims(testimg,axis=0)\n",
        "testimg= testimg/255.0\n",
        "result1=model.predict(testimg)\n",
        "print(result1)\n",
        "print(training_set.class_indices)\n"
      ],
      "execution_count": 10,
      "outputs": [
        {
          "output_type": "stream",
          "text": [
            "[[0.99891806 0.00108197]]\n",
            "{'covid': 0, 'normal': 1}\n"
          ],
          "name": "stdout"
        }
      ]
    },
    {
      "cell_type": "markdown",
      "metadata": {
        "id": "P1MXGaN_MnPQ",
        "colab_type": "text"
      },
      "source": [
        "99.89% covid ... which is true."
      ]
    },
    {
      "cell_type": "code",
      "metadata": {
        "id": "KUceObVP3woT",
        "colab_type": "code",
        "colab": {
          "base_uri": "https://localhost:8080/",
          "height": 34
        },
        "outputId": "247a8aa9-8135-41d7-934c-16114ec4d0e7"
      },
      "source": [
        "testimg1=image.load_img(\"/content/NORMAL2-IM-0035-0001.jpeg\",target_size=(224, 224))\n",
        "testimg1=image.img_to_array(testimg1)\n",
        "testimg1=np.expand_dims(testimg1,axis=0)\n",
        "testimg1= testimg1/255.0\n",
        "result=model.predict(testimg1)\n",
        "print(result)"
      ],
      "execution_count": 15,
      "outputs": [
        {
          "output_type": "stream",
          "text": [
            "[[0.00468562 0.99531436]]\n"
          ],
          "name": "stdout"
        }
      ]
    },
    {
      "cell_type": "markdown",
      "metadata": {
        "id": "aNFQNgETMuhw",
        "colab_type": "text"
      },
      "source": [
        "99.53% Normal, which is also true. Hence our model shows acceptable responses ."
      ]
    },
    {
      "cell_type": "code",
      "metadata": {
        "id": "3ySgJvg0IW7W",
        "colab_type": "code",
        "colab": {
          "base_uri": "https://localhost:8080/",
          "height": 299
        },
        "outputId": "d3a66e11-ff4f-412a-822e-cf182c62b68a"
      },
      "source": [
        "N = EPOCHS\n",
        "plt.style.use(\"ggplot\")\n",
        "plt.figure()\n",
        "plt.plot(np.arange(0, N), history.history[\"loss\"], label=\"train_loss\")\n",
        "plt.plot(np.arange(0, N), history.history[\"val_loss\"], label=\"val_loss\")\n",
        "plt.plot(np.arange(0, N), history.history[\"accuracy\"], label=\"train_acc\")\n",
        "plt.plot(np.arange(0, N), history.history[\"val_accuracy\"], label=\"val_acc\")\n",
        "plt.title(\"Training Loss and Accuracy on COVID-19 Dataset\")\n",
        "plt.xlabel(\"Epoch #\")\n",
        "plt.ylabel(\"Loss/Accuracy\")\n",
        "plt.legend(loc=\"lower left\")\n",
        "plt.savefig(\"plot.jpg\")"
      ],
      "execution_count": 19,
      "outputs": [
        {
          "output_type": "display_data",
          "data": {
            "image/png": "[encoded data removed]",
            "text/plain": [
              "<Figure size 432x288 with 1 Axes>"
            ]
          },
          "metadata": {
            "tags": []
          }
        }
      ]
    },
    {
      "cell_type": "markdown",
      "metadata": {
        "id": "WLPRP15YM-Kw",
        "colab_type": "text"
      },
      "source": [
        "As you can see there is sudden jump and fall in val accuracies."
      ]
    },
    {
      "cell_type": "markdown",
      "metadata": {
        "id": "uCSBjbKSoU8Z",
        "colab_type": "text"
      },
      "source": [
        "# New Section"
      ]
    }
  ]
}